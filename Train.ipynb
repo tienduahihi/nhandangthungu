{
 "cells": [
  {
   "cell_type": "markdown",
   "metadata": {},
   "source": [
    "# Data Input "
   ]
  },
  {
   "cell_type": "code",
   "execution_count": 1,
   "metadata": {
    "scrolled": true
   },
   "outputs": [
    {
     "data": {
      "text/plain": [
       "(39000, 100, 100, 1)"
      ]
     },
     "execution_count": 1,
     "metadata": {},
     "output_type": "execute_result"
    }
   ],
   "source": [
    "# CREATING X, Y\n",
    "from keras import models, layers\n",
    "import os\n",
    "import cv2\n",
    "import numpy as np\n",
    "\n",
    "TRAIN_DIR = r\"C:\\Users\\ASUS\\Desktop\\ai\\American-Sign-Language-master\\Gestures\"\n",
    "\n",
    "num_classes=26\n",
    "IMG_SIZE = 100\n",
    "def vectorize_data(TRAIN_DIR):\n",
    "    result = []\n",
    "    labels = []\n",
    "    for label in os.listdir(TRAIN_DIR):\n",
    "        path=\"\"\n",
    "        path=os.path.join(TRAIN_DIR, label)\n",
    "        for img in os.listdir(path):\n",
    "            path2=\"\"\n",
    "            path2 = os.path.join(path, img)\n",
    "            i = cv2.imread(path2)\n",
    "            #i = cv2.cvtColor(i, cv2.COLOR_BGR2GRAY)\n",
    "            \n",
    "            i = cv2.resize(cv2.imread(path2, cv2.IMREAD_GRAYSCALE), (IMG_SIZE, IMG_SIZE))\n",
    "            \n",
    "            \n",
    "            result.append(i)\n",
    "            labels.append(label)\n",
    "    \n",
    "    return result, labels\n",
    "\n",
    "x, y =vectorize_data(TRAIN_DIR)\n",
    "x_train = np.array(x)\n",
    "y_train = np.array(y)\n",
    "\n",
    "x_train = np.expand_dims(x_train, axis=-1)\n",
    "x_train.shape"
   ]
  },
  {
   "cell_type": "code",
   "execution_count": 2,
   "metadata": {},
   "outputs": [],
   "source": [
    "from keras.utils.np_utils import to_categorical\n",
    "dictonary = {'A':0, 'B':1, 'C':2, 'D':3, 'E':4, 'F':5, 'G':6, 'H':7, 'I':8, 'J':9, 'K':10, 'L':11, 'M':12, 'N':13, 'O':14, 'P':15, \n",
    "            'Q':16, 'R':17, 'S':18, 'T':19, 'U':20, 'V':21, 'W':22, 'X':23, 'Y':24, 'Z':25}\n",
    "num_classes=26\n",
    "keys, inv = np.unique(y_train, return_inverse=True)\n",
    "vals = np.array([dictonary[key] for key in keys])\n",
    "y_train_new = vals[inv]\n",
    "y_train_new_cat = to_categorical(y_train_new, num_classes)\n",
    "\n",
    "\n",
    "'''\n",
    "keys, inv = np.unique(y_test, return_inverse=True)\n",
    "vals = np.array([dictonary[key] for key in keys])\n",
    "y_test_new = vals[inv]\n",
    "y_test_new_cat = to_categorical(y_test_new,num_classes=24)\n",
    "'''\n",
    "# SHUFFLE\n",
    "def unison_shuffled_copies(a, b):\n",
    "    p = np.random.permutation(len(a))\n",
    "    return a[p], b[p]\n",
    "x_new,y_new = unison_shuffled_copies(x_train,y_train_new_cat)\n"
   ]
  },
  {
   "cell_type": "markdown",
   "metadata": {},
   "source": [
    "# Model Creating "
   ]
  },
  {
   "cell_type": "code",
   "execution_count": 1,
   "metadata": {},
   "outputs": [
    {
     "name": "stdout",
     "output_type": "stream",
     "text": [
      "Model: \"sequential\"\n",
      "_________________________________________________________________\n",
      "Layer (type)                 Output Shape              Param #   \n",
      "=================================================================\n",
      "conv2d (Conv2D)              (None, 99, 99, 16)        80        \n",
      "_________________________________________________________________\n",
      "max_pooling2d (MaxPooling2D) (None, 49, 49, 16)        0         \n",
      "_________________________________________________________________\n",
      "conv2d_1 (Conv2D)            (None, 47, 47, 32)        4640      \n",
      "_________________________________________________________________\n",
      "max_pooling2d_1 (MaxPooling2 (None, 23, 23, 32)        0         \n",
      "_________________________________________________________________\n",
      "conv2d_2 (Conv2D)            (None, 21, 21, 64)        18496     \n",
      "_________________________________________________________________\n",
      "max_pooling2d_2 (MaxPooling2 (None, 10, 10, 64)        0         \n",
      "_________________________________________________________________\n",
      "flatten (Flatten)            (None, 6400)              0         \n",
      "_________________________________________________________________\n",
      "dense (Dense)                (None, 128)               819328    \n",
      "_________________________________________________________________\n",
      "activation (Activation)      (None, 128)               0         \n",
      "_________________________________________________________________\n",
      "dropout (Dropout)            (None, 128)               0         \n",
      "_________________________________________________________________\n",
      "dense_1 (Dense)              (None, 26)                3354      \n",
      "=================================================================\n",
      "Total params: 845,898\n",
      "Trainable params: 845,898\n",
      "Non-trainable params: 0\n",
      "_________________________________________________________________\n"
     ]
    }
   ],
   "source": [
    "# MODEL CREATION\n",
    "from keras.models import Sequential\n",
    "from keras.layers import Conv2D, MaxPooling2D, Activation, Dropout, Flatten, Dense\n",
    "from keras.optimizers import SGD\n",
    "IMG_SIZE = 100\n",
    "\n",
    "num_classes = 26\n",
    "model = Sequential()\n",
    "\n",
    "model.add(Conv2D(16, (2,2), input_shape=(IMG_SIZE, IMG_SIZE, 1), activation='relu'))\n",
    "#model.add(Activation('relu'))\n",
    "model.add(MaxPooling2D(pool_size=(2, 2) ))\n",
    "\n",
    "model.add(Conv2D(32, (3,3), activation='relu'))\n",
    "model.add(MaxPooling2D(pool_size=(2, 2) ))\n",
    "\n",
    "model.add(Conv2D(64, (3,3), activation='relu'))\n",
    "model.add(MaxPooling2D(pool_size=(2, 2) ))\n",
    "\n",
    "model.add(Flatten())\n",
    "model.add(Dense(128))\n",
    "model.add(Activation('relu'))\n",
    "model.add(Dropout(0.2))\n",
    "model.add(Dense(num_classes, activation='softmax'))\n",
    "model.summary()\n",
    "\n",
    "model.compile(optimizer = 'adam',\n",
    "               loss = 'categorical_crossentropy',\n",
    "               metrics=['accuracy'],)\n",
    "#np.expand_dims(i, axis=0)"
   ]
  },
  {
   "cell_type": "markdown",
   "metadata": {},
   "source": [
    "# Training Data"
   ]
  },
  {
   "cell_type": "code",
   "execution_count": 9,
   "metadata": {},
   "outputs": [
    {
     "name": "stdout",
     "output_type": "stream",
     "text": [
      "Epoch 1/20\n",
      "1097/1097 [==============================] - 171s 156ms/step - loss: 3.1976 - accuracy: 0.8525 - val_loss: 0.0393 - val_accuracy: 0.9905\n",
      "Epoch 2/20\n",
      "1097/1097 [==============================] - 179s 163ms/step - loss: 0.0348 - accuracy: 0.9899 - val_loss: 6.7144e-04 - val_accuracy: 0.9997\n",
      "Epoch 3/20\n",
      "1097/1097 [==============================] - 180s 164ms/step - loss: 0.0182 - accuracy: 0.9951 - val_loss: 0.0154 - val_accuracy: 0.9951\n",
      "Epoch 4/20\n",
      "1097/1097 [==============================] - 142s 129ms/step - loss: 0.0222 - accuracy: 0.9948 - val_loss: 4.9864e-04 - val_accuracy: 0.9997\n",
      "Epoch 5/20\n",
      "1097/1097 [==============================] - 117s 106ms/step - loss: 0.0186 - accuracy: 0.9951 - val_loss: 7.9709e-06 - val_accuracy: 1.0000\n",
      "Epoch 6/20\n",
      "1097/1097 [==============================] - 118s 108ms/step - loss: 0.0064 - accuracy: 0.9981 - val_loss: 1.7456e-04 - val_accuracy: 1.0000\n",
      "Epoch 7/20\n",
      "1097/1097 [==============================] - 120s 109ms/step - loss: 0.0078 - accuracy: 0.9973 - val_loss: 6.3574e-04 - val_accuracy: 0.9997\n",
      "Epoch 8/20\n",
      "1097/1097 [==============================] - 118s 107ms/step - loss: 0.0089 - accuracy: 0.9974 - val_loss: 1.8515e-05 - val_accuracy: 1.0000\n",
      "Epoch 9/20\n",
      "1097/1097 [==============================] - 117s 107ms/step - loss: 0.0046 - accuracy: 0.9985 - val_loss: 6.8145e-04 - val_accuracy: 0.9997\n",
      "Epoch 10/20\n",
      "1097/1097 [==============================] - 119s 108ms/step - loss: 0.0026 - accuracy: 0.9993 - val_loss: 6.8476e-05 - val_accuracy: 1.0000\n",
      "Epoch 11/20\n",
      "1097/1097 [==============================] - 153s 139ms/step - loss: 0.0022 - accuracy: 0.9992 - val_loss: 7.8382e-04 - val_accuracy: 0.9995\n",
      "Epoch 12/20\n",
      "1097/1097 [==============================] - 125s 114ms/step - loss: 0.0057 - accuracy: 0.9984 - val_loss: 0.0017 - val_accuracy: 0.9995\n",
      "Epoch 13/20\n",
      "1097/1097 [==============================] - 118s 107ms/step - loss: 0.0037 - accuracy: 0.9991 - val_loss: 1.8113e-06 - val_accuracy: 1.0000\n",
      "Epoch 14/20\n",
      "1097/1097 [==============================] - 118s 107ms/step - loss: 0.0028 - accuracy: 0.9991 - val_loss: 0.0029 - val_accuracy: 0.9997\n",
      "Epoch 15/20\n",
      "1097/1097 [==============================] - 118s 108ms/step - loss: 0.0076 - accuracy: 0.9984 - val_loss: 1.8579e-07 - val_accuracy: 1.0000\n",
      "Epoch 16/20\n",
      "1097/1097 [==============================] - 118s 108ms/step - loss: 0.0025 - accuracy: 0.9992 - val_loss: 1.9348e-05 - val_accuracy: 1.0000\n",
      "Epoch 17/20\n",
      "1097/1097 [==============================] - 119s 108ms/step - loss: 0.0020 - accuracy: 0.9993 - val_loss: 5.8665e-07 - val_accuracy: 1.0000\n",
      "Epoch 18/20\n",
      "1097/1097 [==============================] - 119s 108ms/step - loss: 7.5741e-04 - accuracy: 0.9997 - val_loss: 6.3547e-08 - val_accuracy: 1.0000\n",
      "Epoch 19/20\n",
      "1097/1097 [==============================] - 118s 108ms/step - loss: 0.0038 - accuracy: 0.9993 - val_loss: 1.6416e-07 - val_accuracy: 1.0000\n",
      "Epoch 20/20\n",
      "1097/1097 [==============================] - 117s 107ms/step - loss: 0.0024 - accuracy: 0.9995 - val_loss: 1.5950e-06 - val_accuracy: 1.0000\n"
     ]
    }
   ],
   "source": [
    "# Training Data \n",
    "\n",
    "model.fit(x_new, y_new, epochs =20, validation_split = 0.1, shuffle = True, batch_size = 32)\n",
    "model.save(\"Twentyfive_class.h5\")"
   ]
  }
 ],
 "metadata": {
  "kernelspec": {
   "display_name": "Python 3.7.8 64-bit",
   "language": "python",
   "name": "python3"
  },
  "language_info": {
   "codemirror_mode": {
    "name": "ipython",
    "version": 3
   },
   "file_extension": ".py",
   "mimetype": "text/x-python",
   "name": "python",
   "nbconvert_exporter": "python",
   "pygments_lexer": "ipython3",
   "version": "3.7.8"
  },
  "vscode": {
   "interpreter": {
    "hash": "5109d816b82be14675a6b11f8e0f0d2e80f029176ed3710d54e125caa8520dfd"
   }
  }
 },
 "nbformat": 4,
 "nbformat_minor": 2
}
